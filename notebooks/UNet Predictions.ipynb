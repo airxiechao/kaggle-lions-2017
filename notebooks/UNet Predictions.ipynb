{
 "cells": [
  {
   "cell_type": "code",
   "execution_count": 2,
   "metadata": {
    "collapsed": true
   },
   "outputs": [],
   "source": [
    "from xgboost import XGBRegressor\n",
    "\n",
    "import sys\n",
    "if '..' not in sys.path:\n",
    "    sys.path.append('..')\n",
    "\n",
    "%matplotlib inline\n",
    "import numpy as np\n",
    "from matplotlib import pyplot as plt\n",
    "from pathlib import Path\n",
    "import cv2\n",
    "import tqdm\n",
    "import gzip\n",
    "import multiprocessing.pool\n",
    "\n",
    "import utils"
   ]
  },
  {
   "cell_type": "code",
   "execution_count": 3,
   "metadata": {
    "collapsed": true
   },
   "outputs": [],
   "source": [
    "FEAT_ROOT = '../runs/unet-limit500/'\n",
    "# FEAT_ROOT = '../runs/unet-limit100-nolw0.1-lr0.0002/'"
   ]
  },
  {
   "cell_type": "code",
   "execution_count": 4,
   "metadata": {
    "collapsed": true
   },
   "outputs": [],
   "source": [
    "def load_pred(path):\n",
    "    with gzip.open(str(path), 'rb') as f:\n",
    "        return np.load(f).astype(np.float32) / 1000"
   ]
  },
  {
   "cell_type": "code",
   "execution_count": 5,
   "metadata": {},
   "outputs": [
    {
     "data": {
      "text/plain": [
       "((3328, 4992, 3), (6, 3328, 4992))"
      ]
     },
     "execution_count": 5,
     "metadata": {},
     "output_type": "execute_result"
    }
   ],
   "source": [
    "IMG_ID = 200\n",
    "img = utils.load_image(Path('../data/Train/{}.jpg'.format(IMG_ID)), cache=False)\n",
    "pred = load_pred('{}/{}-pred.npy'.format(FEAT_ROOT, IMG_ID))\n",
    "img.shape, pred.shape"
   ]
  },
  {
   "cell_type": "code",
   "execution_count": null,
   "metadata": {
    "collapsed": true
   },
   "outputs": [],
   "source": [
    "plt.figure(figsize=(12, 10))\n",
    "plt.imshow(img);"
   ]
  },
  {
   "cell_type": "code",
   "execution_count": null,
   "metadata": {
    "collapsed": true,
    "scrolled": false
   },
   "outputs": [],
   "source": [
    "size = (1000, 600)\n",
    "small_img = cv2.resize(img, size)\n",
    "pred_sum = pred[:utils.N_CLASSES].sum(axis=0)\n",
    "\n",
    "#\"\"\"\n",
    "for cls in range(utils.N_CLASSES):\n",
    "    plt.figure(figsize=(16, 12))\n",
    "    plt.imshow(small_img)\n",
    "    plt.imshow(cv2.resize(pred[cls], size), alpha=0.5)\n",
    "    plt.show()\n",
    "#\"\"\"\n",
    "\n",
    "plt.figure(figsize=(16, 12))\n",
    "plt.imshow(small_img)\n",
    "plt.imshow(cv2.resize(pred_sum, size), alpha=0.7)\n",
    "plt.show()"
   ]
  },
  {
   "cell_type": "code",
   "execution_count": 6,
   "metadata": {
    "collapsed": true
   },
   "outputs": [],
   "source": [
    "all_coords = utils.load_coords()"
   ]
  },
  {
   "cell_type": "code",
   "execution_count": 7,
   "metadata": {},
   "outputs": [
    {
     "data": {
      "text/plain": [
       "<matplotlib.axes._subplots.AxesSubplot at 0x7f4878301a90>"
      ]
     },
     "execution_count": 7,
     "metadata": {},
     "output_type": "execute_result"
    },
    {
     "data": {
      "image/png": "[encoded data removed]",
      "text/plain": [
       "<matplotlib.figure.Figure at 0x7f48782f3eb8>"
      ]
     },
     "metadata": {},
     "output_type": "display_data"
    }
   ],
   "source": [
    "all_coords.cls.hist()"
   ]
  },
  {
   "cell_type": "code",
   "execution_count": 75,
   "metadata": {
    "scrolled": false
   },
   "outputs": [
    {
     "name": "stdout",
     "output_type": "stream",
     "text": [
      "517 total\n",
      "0\n",
      "50\n",
      "100\n",
      "150\n",
      "200\n",
      "250\n",
      "300\n",
      "350\n",
      "400\n",
      "450\n",
      "500\n"
     ]
    }
   ],
   "source": [
    "def load_xs_ys(pred_path):\n",
    "    pred = load_pred(pred_path)\n",
    "    img_id = int(pred_path.name.split('-')[0])\n",
    "    xs, ys = [], []\n",
    "    for cls in range(utils.N_CLASSES):\n",
    "        try:\n",
    "            ys.append(\n",
    "                (all_coords.loc[img_id].cls == cls).sum())\n",
    "        except KeyError:\n",
    "            ys.append(0)\n",
    "        cls_pred = pred[cls]\n",
    "        thresholds = [0.02, 0.25]\n",
    "        x = [cls_pred.sum()]\n",
    "        for i, threshold in enumerate(thresholds):\n",
    "            bin_mask = cls_pred > threshold\n",
    "            if i + 1 < len(thresholds):\n",
    "                bin_mask &= cls_pred < thresholds[i + 1]\n",
    "            x.append(bin_mask.sum())\n",
    "        xs.append(x)\n",
    "    return xs, ys\n",
    "\n",
    "all_xs = [[] for _ in range(utils.N_CLASSES)]\n",
    "all_ys = [[] for _ in range(utils.N_CLASSES)]\n",
    "valid_ids = {int(p.stem) for p in utils.labeled_paths()}\n",
    "with multiprocessing.pool.ThreadPool(processes=6) as pool:\n",
    "    img_paths = [p for p in Path(FEAT_ROOT).glob('*-pred.npy')\n",
    "                 if int(p.name.split('-')[0]) in valid_ids]\n",
    "    print('{} total'.format(len(img_paths)))\n",
    "    for i, (xs, ys) in enumerate(pool.imap_unordered(load_xs_ys, img_paths, chunksize=2)):\n",
    "        if i % 50 == 0:\n",
    "            print(i)\n",
    "        for cls in range(utils.N_CLASSES):\n",
    "            all_xs[cls].append(xs[cls])\n",
    "            all_ys[cls].append(ys[cls])\n",
    "all_xs = np.array(all_xs)\n",
    "all_ys = np.array(all_ys)"
   ]
  },
  {
   "cell_type": "code",
   "execution_count": 49,
   "metadata": {},
   "outputs": [
    {
     "data": {
      "text/plain": [
       "<matplotlib.collections.PathCollection at 0x7f30a4a2c278>"
      ]
     },
     "execution_count": 49,
     "metadata": {},
     "output_type": "execute_result"
    },
    {
     "data": {
      "image/png": "[encoded data removed]",
      "text/plain": [
       "<matplotlib.figure.Figure at 0x7f30a4a640b8>"
      ]
     },
     "metadata": {},
     "output_type": "display_data"
    }
   ],
   "source": [
    "plt.scatter(all_xs[0][:, 0], all_ys[0])"
   ]
  },
  {
   "cell_type": "code",
   "execution_count": 80,
   "metadata": {
    "scrolled": false
   },
   "outputs": [
    {
     "name": "stdout",
     "output_type": "stream",
     "text": [
      "\n",
      "cls 0, target mean 5.47, RMSE 7.43\n",
      "cls 1, target mean 4.47, RMSE 6.36\n",
      "cls 2, target mean 38.17, RMSE 71.30\n",
      "cls 3, target mean 22.18, RMSE 48.39\n",
      "cls 4, target mean 16.87, RMSE 50.62\n",
      "Average RMSE for DummyRegressor: 36.82\n",
      "\n",
      "cls 0, target mean 5.47, RMSE 6.20\n",
      "cls 1, target mean 4.47, RMSE 6.16\n",
      "cls 2, target mean 38.17, RMSE 40.12\n",
      "cls 3, target mean 22.18, RMSE 36.34\n",
      "cls 4, target mean 16.87, RMSE 29.59\n",
      "Average RMSE for Lasso: 23.68\n"
     ]
    }
   ],
   "source": [
    "from sklearn.linear_model import LinearRegression, Ridge, Lasso, LassoCV\n",
    "from sklearn.model_selection import cross_val_predict\n",
    "from sklearn import metrics\n",
    "from IPython.core.display import display\n",
    "from eli5 import show_weights\n",
    "from sklearn.dummy import DummyRegressor\n",
    "\n",
    "def evaluate(*regs, explain=False):\n",
    "    print()\n",
    "    all_rmse = []\n",
    "    regs_name = ', '.join(type(reg).__name__ for reg in regs)\n",
    "    for cls in range(utils.N_CLASSES):\n",
    "        xs, ys = all_xs[cls], all_ys[cls]\n",
    "        preds = [cross_val_predict(reg, xs, ys, cv=5) for reg in regs]\n",
    "        pred = np.mean(preds, axis=0)\n",
    "        rmse = np.sqrt(metrics.mean_squared_error(ys, pred))\n",
    "        print('cls {}, target mean {:.2f}, RMSE {:.2f}'.format(cls, np.mean(ys), rmse))\n",
    "        all_rmse.append(np.mean(rmse))\n",
    "        if explain:\n",
    "            reg.fit(xs, ys)\n",
    "            display(show_weights(reg, target_names=['cls-{}'.format(cls)]))\n",
    "    print('Average RMSE for {}: {:.2f}'.format(regs_name, np.mean(all_rmse)))\n",
    "\n",
    "evaluate(DummyRegressor())\n",
    "  \n",
    "evaluate(Lasso(alpha=1.0, normalize=False, max_iter=1000000))"
   ]
  },
  {
   "cell_type": "code",
   "execution_count": 83,
   "metadata": {},
   "outputs": [
    {
     "name": "stdout",
     "output_type": "stream",
     "text": [
      "\n",
      "cls 0, target mean 5.47, RMSE 6.17\n",
      "cls 1, target mean 4.47, RMSE 6.09\n",
      "cls 2, target mean 38.17, RMSE 42.52\n",
      "cls 3, target mean 22.18, RMSE 34.76\n",
      "cls 4, target mean 16.87, RMSE 32.24\n",
      "Average RMSE for Lasso, XGBRegressor: 24.35\n"
     ]
    }
   ],
   "source": [
    "evaluate(Lasso(alpha=1.0, normalize=False, max_iter=100000),\n",
    "         XGBRegressor(n_estimators=10, max_depth=2))"
   ]
  },
  {
   "cell_type": "code",
   "execution_count": 81,
   "metadata": {},
   "outputs": [
    {
     "name": "stdout",
     "output_type": "stream",
     "text": [
      "\n",
      "cls 0, target mean 5.47, RMSE 6.56\n",
      "cls 1, target mean 4.47, RMSE 6.24\n",
      "cls 2, target mean 38.17, RMSE 50.23\n",
      "cls 3, target mean 22.18, RMSE 36.40\n",
      "cls 4, target mean 16.87, RMSE 38.26\n",
      "Average RMSE for XGBRegressor: 27.54\n"
     ]
    }
   ],
   "source": [
    "evaluate(XGBRegressor(n_estimators=10, max_depth=2))"
   ]
  },
  {
   "cell_type": "code",
   "execution_count": 82,
   "metadata": {},
   "outputs": [
    {
     "name": "stdout",
     "output_type": "stream",
     "text": [
      "\n",
      "cls 0, target mean 5.47, RMSE 6.07\n",
      "cls 1, target mean 4.47, RMSE 6.08\n",
      "cls 2, target mean 38.17, RMSE 38.29\n",
      "cls 3, target mean 22.18, RMSE 32.60\n",
      "cls 4, target mean 16.87, RMSE 30.36\n",
      "Average RMSE for XGBRegressor, Lasso: 22.68\n"
     ]
    }
   ],
   "source": [
    "evaluate(XGBRegressor(n_estimators=50, max_depth=2),\n",
    "         Lasso(alpha=1.0, normalize=False, max_iter=100000))"
   ]
  },
  {
   "cell_type": "code",
   "execution_count": 88,
   "metadata": {
    "scrolled": false
   },
   "outputs": [
    {
     "name": "stdout",
     "output_type": "stream",
     "text": [
      "\n",
      "cls 0, target mean 5.47, RMSE 4.85\n",
      "cls 1, target mean 4.47, RMSE 6.05\n",
      "cls 2, target mean 38.17, RMSE 39.81\n",
      "cls 3, target mean 22.18, RMSE 37.44\n",
      "cls 4, target mean 16.87, RMSE 25.56\n",
      "Average RMSE for Lasso: 22.74\n",
      "Saved to ../runs/unet-limit500/lasso.joblib\n"
     ]
    }
   ],
   "source": [
    "from sklearn.externals import joblib\n",
    "from sklearn.base import clone\n",
    "\n",
    "def evaluate_stacked(*regs, save_to=None):\n",
    "    print()\n",
    "    stacked_xs = np.concatenate(all_xs, axis=1)\n",
    "    all_rmse = []\n",
    "    regs_name = ', '.join(type(reg).__name__ for reg in regs)\n",
    "    fitted_regs = []\n",
    "    for cls in range(utils.N_CLASSES):\n",
    "        ys = all_ys[cls]\n",
    "        xs = stacked_xs\n",
    "        preds = [cross_val_predict(reg, xs, ys, cv=5) for reg in regs]\n",
    "        pred = np.mean(preds, axis=0)\n",
    "        rmse = np.sqrt(metrics.mean_squared_error(ys, pred))\n",
    "        print('cls {}, target mean {:.2f}, RMSE {:.2f}'.format(cls, np.mean(ys), rmse))\n",
    "        all_rmse.append(np.mean(rmse))\n",
    "        if save_to:\n",
    "            fitted = []\n",
    "            for reg in regs:\n",
    "                reg = clone(reg)\n",
    "                reg.fit(xs, ys)\n",
    "                fitted.append(reg)\n",
    "            fitted_regs.append(fitted)\n",
    "    print('Average RMSE for {}: {:.2f}'.format(regs_name, np.mean(all_rmse)))\n",
    "    if save_to:\n",
    "        joblib.dump(fitted_regs, save_to)\n",
    "        print('Saved to', save_to)\n",
    "\n",
    "evaluate_stacked(Lasso(alpha=1.0, normalize=False, max_iter=100000),\n",
    "                save_to=FEAT_ROOT + 'lasso.joblib')"
   ]
  },
  {
   "cell_type": "code",
   "execution_count": 85,
   "metadata": {},
   "outputs": [
    {
     "name": "stdout",
     "output_type": "stream",
     "text": [
      "cls 0, target mean 5.47, RMSE 4.41\n",
      "cls 1, target mean 4.47, RMSE 5.55\n",
      "cls 2, target mean 38.17, RMSE 33.57\n",
      "cls 3, target mean 22.18, RMSE 31.56\n",
      "cls 4, target mean 16.87, RMSE 22.38\n",
      "Average RMSE for ../runs/unet-limit500/lasso.joblib: 19.49\n"
     ]
    }
   ],
   "source": [
    "def check(path):\n",
    "    all_regs = joblib.load(path)\n",
    "    stacked_xs = np.concatenate(all_xs, axis=1)\n",
    "    all_rmse = []\n",
    "    for cls, cls_regs in enumerate(all_regs):\n",
    "        ys = all_ys[cls]\n",
    "        xs = stacked_xs\n",
    "        preds = [reg.predict(xs) for reg in cls_regs]\n",
    "        pred = np.mean(preds, axis=0)\n",
    "        rmse = np.sqrt(metrics.mean_squared_error(ys, pred))\n",
    "        print('cls {}, target mean {:.2f}, RMSE {:.2f}'.format(cls, np.mean(ys), rmse))\n",
    "        all_rmse.append(np.mean(rmse))\n",
    "    print('Average RMSE for {}: {:.2f}'.format(path, np.mean(all_rmse)))\n",
    "\n",
    "check(FEAT_ROOT + 'lasso.joblib')"
   ]
  },
  {
   "cell_type": "code",
   "execution_count": 92,
   "metadata": {},
   "outputs": [
    {
     "name": "stdout",
     "output_type": "stream",
     "text": [
      "cls 0, target mean 5.27, RMSE 5.72 +- 1.72\n",
      "cls 1, target mean 4.29, RMSE 6.04 +- 1.98\n",
      "cls 2, target mean 37.08, RMSE 50.16 +- 12.26\n",
      "cls 3, target mean 21.16, RMSE 35.43 +- 11.22\n",
      "cls 4, target mean 16.30, RMSE 35.72 +- 10.01\n",
      "Average RMSE for <class 'xgboost.sklearn.XGBRegressor'>: 26.61\n"
     ]
    }
   ],
   "source": [
    "evaluate_stacked(XGBRegressor(n_estimators=10, max_depth=2))"
   ]
  },
  {
   "cell_type": "code",
   "execution_count": 93,
   "metadata": {},
   "outputs": [
    {
     "name": "stdout",
     "output_type": "stream",
     "text": [
      "cls 0, target mean 5.27, RMSE 4.27 +- 1.24\n",
      "cls 1, target mean 4.29, RMSE 5.88 +- 1.49\n",
      "cls 2, target mean 37.08, RMSE 38.63 +- 10.13\n",
      "cls 3, target mean 21.16, RMSE 33.50 +- 12.84\n",
      "cls 4, target mean 16.30, RMSE 26.85 +- 9.80\n",
      "Average RMSE for <class 'xgboost.sklearn.XGBRegressor'>: 21.83\n"
     ]
    }
   ],
   "source": [
    "evaluate_stacked(XGBRegressor(n_estimators=100, max_depth=2))"
   ]
  },
  {
   "cell_type": "code",
   "execution_count": 98,
   "metadata": {},
   "outputs": [
    {
     "name": "stdout",
     "output_type": "stream",
     "text": [
      "cls 0, target mean 5.27, RMSE 4.35 +- 1.23\n",
      "cls 1, target mean 4.29, RMSE 5.87 +- 1.57\n",
      "cls 2, target mean 37.08, RMSE 39.00 +- 10.58\n",
      "cls 3, target mean 21.16, RMSE 33.41 +- 11.46\n",
      "cls 4, target mean 16.30, RMSE 26.50 +- 11.92\n",
      "Average RMSE for <class 'xgboost.sklearn.XGBRegressor'>: 21.82\n"
     ]
    }
   ],
   "source": [
    "evaluate_stacked(XGBRegressor(n_estimators=50, max_depth=2))"
   ]
  },
  {
   "cell_type": "code",
   "execution_count": 99,
   "metadata": {},
   "outputs": [
    {
     "name": "stdout",
     "output_type": "stream",
     "text": [
      "cls 0, target mean 5.27, RMSE 4.35 +- 1.32\n",
      "cls 1, target mean 4.29, RMSE 5.78 +- 1.46\n",
      "cls 2, target mean 37.08, RMSE 38.48 +- 10.60\n",
      "cls 3, target mean 21.16, RMSE 34.87 +- 11.95\n",
      "cls 4, target mean 16.30, RMSE 27.36 +- 9.64\n",
      "Average RMSE for <class 'xgboost.sklearn.XGBRegressor'>: 22.17\n"
     ]
    }
   ],
   "source": [
    "evaluate_stacked(XGBRegressor(n_estimators=300, learning_rate=0.03))"
   ]
  },
  {
   "cell_type": "code",
   "execution_count": 22,
   "metadata": {},
   "outputs": [
    {
     "name": "stdout",
     "output_type": "stream",
     "text": [
      "cls 0, target mean 5.27, RMSE 4.55\n",
      "cls 1, target mean 4.29, RMSE 5.74\n",
      "cls 2, target mean 37.08, RMSE 38.20\n",
      "cls 3, target mean 21.16, RMSE 32.75\n",
      "cls 4, target mean 16.30, RMSE 25.51\n",
      "Average RMSE for XGBRegressor, Lasso: 21.35\n"
     ]
    }
   ],
   "source": [
    "evaluate_stacked(XGBRegressor(n_estimators=50, max_depth=2),\n",
    "                 Lasso(alpha=1.0, normalize=False, max_iter=100000))"
   ]
  },
  {
   "cell_type": "code",
   "execution_count": 86,
   "metadata": {},
   "outputs": [
    {
     "name": "stdout",
     "output_type": "stream",
     "text": [
      "cls 0, target mean 5.47, RMSE 4.44\n",
      "cls 1, target mean 4.47, RMSE 5.99\n",
      "cls 2, target mean 38.17, RMSE 36.76\n",
      "cls 3, target mean 22.18, RMSE 31.48\n",
      "cls 4, target mean 16.87, RMSE 26.21\n",
      "Average RMSE for ExtraTreesRegressor: 20.98\n",
      "cls 0, target mean 5.47, RMSE 4.36\n",
      "cls 1, target mean 4.47, RMSE 5.96\n",
      "cls 2, target mean 38.17, RMSE 38.93\n",
      "cls 3, target mean 22.18, RMSE 33.73\n",
      "cls 4, target mean 16.87, RMSE 26.21\n",
      "Average RMSE for BaggingRegressor: 21.84\n",
      "cls 0, target mean 5.47, RMSE 4.36\n",
      "cls 1, target mean 4.47, RMSE 5.94\n",
      "cls 2, target mean 38.17, RMSE 38.24\n",
      "cls 3, target mean 22.18, RMSE 31.02\n",
      "cls 4, target mean 16.87, RMSE 25.94\n",
      "Average RMSE for ExtraTreesRegressor, BaggingRegressor: 21.10\n"
     ]
    }
   ],
   "source": [
    "from sklearn.ensemble import ExtraTreesRegressor, BaggingRegressor\n",
    "\n",
    "evaluate_stacked(ExtraTreesRegressor(n_estimators=50))\n",
    "evaluate_stacked(BaggingRegressor(n_estimators=50))\n",
    "evaluate_stacked(ExtraTreesRegressor(n_estimators=50),\n",
    "                 BaggingRegressor(n_estimators=50))"
   ]
  },
  {
   "cell_type": "code",
   "execution_count": 87,
   "metadata": {},
   "outputs": [
    {
     "name": "stdout",
     "output_type": "stream",
     "text": [
      "cls 0, target mean 5.47, RMSE 4.49\n",
      "cls 1, target mean 4.47, RMSE 5.82\n",
      "cls 2, target mean 38.17, RMSE 35.98\n",
      "cls 3, target mean 22.18, RMSE 31.82\n",
      "cls 4, target mean 16.87, RMSE 24.48\n",
      "Average RMSE for ExtraTreesRegressor, Lasso: 20.52\n"
     ]
    }
   ],
   "source": [
    "evaluate_stacked(ExtraTreesRegressor(n_estimators=50),\n",
    "                 Lasso(alpha=1.0, normalize=False, max_iter=100000))"
   ]
  },
  {
   "cell_type": "code",
   "execution_count": 89,
   "metadata": {},
   "outputs": [
    {
     "name": "stdout",
     "output_type": "stream",
     "text": [
      "\n",
      "cls 0, target mean 5.47, RMSE 4.40\n",
      "cls 1, target mean 4.47, RMSE 5.82\n",
      "cls 2, target mean 38.17, RMSE 37.17\n",
      "cls 3, target mean 22.18, RMSE 30.56\n",
      "cls 4, target mean 16.87, RMSE 25.29\n",
      "Average RMSE for ExtraTreesRegressor, BaggingRegressor, XGBRegressor, Lasso: 20.65\n"
     ]
    }
   ],
   "source": [
    "evaluate_stacked(\n",
    "    ExtraTreesRegressor(n_estimators=50),\n",
    "    BaggingRegressor(n_estimators=50),\n",
    "    XGBRegressor(n_estimators=50, max_depth=2),\n",
    "    Lasso(alpha=1.0, normalize=False, max_iter=100000),\n",
    ")"
   ]
  },
  {
   "cell_type": "code",
   "execution_count": 90,
   "metadata": {},
   "outputs": [
    {
     "name": "stdout",
     "output_type": "stream",
     "text": [
      "\n",
      "cls 0, target mean 5.47, RMSE 4.39\n",
      "cls 1, target mean 4.47, RMSE 5.81\n",
      "cls 2, target mean 38.17, RMSE 36.78\n",
      "cls 3, target mean 22.18, RMSE 30.26\n",
      "cls 4, target mean 16.87, RMSE 24.88\n",
      "Average RMSE for ExtraTreesRegressor, XGBRegressor, Lasso: 20.42\n"
     ]
    }
   ],
   "source": [
    "evaluate_stacked(\n",
    "    ExtraTreesRegressor(n_estimators=50),\n",
    "    # BaggingRegressor(n_estimators=50),\n",
    "    XGBRegressor(n_estimators=50, max_depth=2),\n",
    "    Lasso(alpha=1.0, normalize=False, max_iter=100000),\n",
    ")"
   ]
  }
 ],
 "metadata": {
  "kernelspec": {
   "display_name": "Python 3",
   "language": "python",
   "name": "python3"
  },
  "language_info": {
   "codemirror_mode": {
    "name": "ipython",
    "version": 3
   },
   "file_extension": ".py",
   "mimetype": "text/x-python",
   "name": "python",
   "nbconvert_exporter": "python",
   "pygments_lexer": "ipython3",
   "version": "3.5.2"
  }
 },
 "nbformat": 4,
 "nbformat_minor": 2
}
