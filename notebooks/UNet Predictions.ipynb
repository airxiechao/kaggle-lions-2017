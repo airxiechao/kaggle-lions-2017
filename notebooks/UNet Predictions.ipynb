{
 "cells": [
  {
   "cell_type": "code",
   "execution_count": 50,
   "metadata": {
    "collapsed": true
   },
   "outputs": [],
   "source": [
    "from xgboost import XGBRegressor\n",
    "\n",
    "import sys\n",
    "if '..' not in sys.path:\n",
    "    sys.path.append('..')\n",
    "\n",
    "%matplotlib inline\n",
    "import numpy as np\n",
    "from matplotlib import pyplot as plt\n",
    "from pathlib import Path\n",
    "import cv2\n",
    "import tqdm\n",
    "import gzip\n",
    "import multiprocessing.pool\n",
    "\n",
    "import utils"
   ]
  },
  {
   "cell_type": "code",
   "execution_count": 3,
   "metadata": {
    "collapsed": true
   },
   "outputs": [],
   "source": [
    "FEAT_ROOT = '../runs/unet-limit500/'\n",
    "# FEAT_ROOT = '../runs/unet-limit100-nolw0.1-lr0.0002/'"
   ]
  },
  {
   "cell_type": "code",
   "execution_count": 5,
   "metadata": {
    "collapsed": true
   },
   "outputs": [],
   "source": [
    "def load_pred(path):\n",
    "    with gzip.open(str(path), 'rb') as f:\n",
    "        return np.load(f).astype(np.float32) / 1000"
   ]
  },
  {
   "cell_type": "code",
   "execution_count": 12,
   "metadata": {},
   "outputs": [
    {
     "data": {
      "text/plain": [
       "((3328, 4992, 3), (6, 3328, 4992))"
      ]
     },
     "execution_count": 12,
     "metadata": {},
     "output_type": "execute_result"
    }
   ],
   "source": [
    "IMG_ID = 200\n",
    "img = utils.load_image(Path('../data/Train/{}.jpg'.format(IMG_ID)), cache=False)\n",
    "pred = load_pred('{}/{}-pred.npy'.format(FEAT_ROOT, IMG_ID))\n",
    "img.shape, pred.shape"
   ]
  },
  {
   "cell_type": "code",
   "execution_count": null,
   "metadata": {},
   "outputs": [],
   "source": [
    "plt.figure(figsize=(12, 10))\n",
    "plt.imshow(img);"
   ]
  },
  {
   "cell_type": "code",
   "execution_count": null,
   "metadata": {
    "scrolled": false
   },
   "outputs": [],
   "source": [
    "size = (1000, 600)\n",
    "small_img = cv2.resize(img, size)\n",
    "pred_sum = pred[:utils.N_CLASSES].sum(axis=0)\n",
    "\n",
    "#\"\"\"\n",
    "for cls in range(utils.N_CLASSES):\n",
    "    plt.figure(figsize=(16, 12))\n",
    "    plt.imshow(small_img)\n",
    "    plt.imshow(cv2.resize(pred[cls], size), alpha=0.5)\n",
    "    plt.show()\n",
    "#\"\"\"\n",
    "\n",
    "plt.figure(figsize=(16, 12))\n",
    "plt.imshow(small_img)\n",
    "plt.imshow(cv2.resize(pred_sum, size), alpha=0.7)\n",
    "plt.show()"
   ]
  },
  {
   "cell_type": "code",
   "execution_count": 15,
   "metadata": {
    "collapsed": true
   },
   "outputs": [],
   "source": [
    "all_coords = utils.load_coords()"
   ]
  },
  {
   "cell_type": "code",
   "execution_count": 7,
   "metadata": {},
   "outputs": [
    {
     "data": {
      "text/plain": [
       "<matplotlib.axes._subplots.AxesSubplot at 0x7f4878301a90>"
      ]
     },
     "execution_count": 7,
     "metadata": {},
     "output_type": "execute_result"
    },
    {
     "data": {
      "image/png": "[encoded data removed]",
      "text/plain": [
       "<matplotlib.figure.Figure at 0x7f48782f3eb8>"
      ]
     },
     "metadata": {},
     "output_type": "display_data"
    }
   ],
   "source": [
    "all_coords.cls.hist()"
   ]
  },
  {
   "cell_type": "code",
   "execution_count": 60,
   "metadata": {
    "scrolled": false
   },
   "outputs": [
    {
     "name": "stdout",
     "output_type": "stream",
     "text": [
      "548 total\n",
      "0\n",
      "50\n",
      "100\n",
      "150\n",
      "200\n",
      "250\n",
      "300\n",
      "350\n",
      "400\n",
      "450\n",
      "500\n"
     ]
    }
   ],
   "source": [
    "def load_xs_ys(pred_path):\n",
    "    pred = load_pred(pred_path)\n",
    "    img_id = int(pred_path.name.split('-')[0])\n",
    "    xs, ys = [], []\n",
    "    for cls in range(utils.N_CLASSES):\n",
    "        try:\n",
    "            ys.append(\n",
    "                (all_coords.loc[img_id].cls == cls).sum())\n",
    "        except KeyError:\n",
    "            ys.append(0)\n",
    "        cls_pred = pred[cls]\n",
    "        x = []\n",
    "        thresholds = [0.02, 0.25] #, 0.05, 0.25, 0.5]\n",
    "        for i, threshold in enumerate(thresholds):\n",
    "            bin_mask = cls_pred > threshold\n",
    "            if i + 1 < len(thresholds):\n",
    "                bin_mask &= cls_pred < thresholds[i + 1]\n",
    "            x.append(bin_mask.sum())\n",
    "        x.append(cls_pred.sum())  # FIXME correlated with x[0]?\n",
    "        xs.append(x)\n",
    "    return xs, ys\n",
    "\n",
    "all_xs = [[] for _ in range(utils.N_CLASSES)]\n",
    "all_ys = [[] for _ in range(utils.N_CLASSES)]\n",
    "with multiprocessing.pool.ThreadPool(processes=6) as pool:\n",
    "    img_paths = list(Path(FEAT_ROOT).glob('*-pred.npy'))\n",
    "    print('{} total'.format(len(img_paths)))\n",
    "    for i, (xs, ys) in enumerate(pool.imap_unordered(load_xs_ys, img_paths, chunksize=2)):\n",
    "        if i % 50 == 0:\n",
    "            print(i)\n",
    "        for cls in range(utils.N_CLASSES):\n",
    "            all_xs[cls].append(xs[cls])\n",
    "            all_ys[cls].append(ys[cls])\n",
    "all_xs = np.array(all_xs)\n",
    "all_ys = np.array(all_ys)"
   ]
  },
  {
   "cell_type": "code",
   "execution_count": 17,
   "metadata": {},
   "outputs": [
    {
     "name": "stdout",
     "output_type": "stream",
     "text": [
      "13537.36\n",
      "13060.31\n",
      "55115.25\n",
      "42394.89\n",
      "27809.73\n"
     ]
    }
   ],
   "source": [
    "for cls in range(utils.N_CLASSES):\n",
    "    print(all_xs[cls][:, 0].mean())"
   ]
  },
  {
   "cell_type": "code",
   "execution_count": 63,
   "metadata": {},
   "outputs": [
    {
     "data": {
      "text/plain": [
       "<matplotlib.collections.PathCollection at 0x7f92b85b7e48>"
      ]
     },
     "execution_count": 63,
     "metadata": {},
     "output_type": "execute_result"
    },
    {
     "data": {
      "image/png": "[encoded data removed]",
      "text/plain": [
       "<matplotlib.figure.Figure at 0x7f92b85e5550>"
      ]
     },
     "metadata": {},
     "output_type": "display_data"
    }
   ],
   "source": [
    "plt.scatter(all_xs[0][:, 1], all_ys[0])"
   ]
  },
  {
   "cell_type": "code",
   "execution_count": 85,
   "metadata": {},
   "outputs": [
    {
     "name": "stdout",
     "output_type": "stream",
     "text": [
      "\n",
      "cls 0, target mean 5.27, RMSE 7.34 +- 1.75\n",
      "cls 1, target mean 4.29, RMSE 6.19 +- 1.94\n",
      "cls 2, target mean 37.08, RMSE 69.94 +- 17.84\n",
      "cls 3, target mean 21.16, RMSE 46.29 +- 19.09\n",
      "cls 4, target mean 16.30, RMSE 49.52 +- 13.12\n",
      "Average RMSE for <class 'sklearn.dummy.DummyRegressor'>: 35.86\n",
      "\n",
      "cls 0, target mean 5.27, RMSE 6.09 +- 1.67\n",
      "cls 1, target mean 4.29, RMSE 6.00 +- 1.46\n",
      "cls 2, target mean 37.08, RMSE 40.49 +- 4.29\n",
      "cls 3, target mean 21.16, RMSE 34.79 +- 12.41\n",
      "cls 4, target mean 16.30, RMSE 28.87 +- 9.79\n",
      "Average RMSE for <class 'sklearn.linear_model.coordinate_descent.Lasso'>: 23.25\n"
     ]
    }
   ],
   "source": [
    "from sklearn.linear_model import LinearRegression, Ridge, Lasso, LassoCV\n",
    "from sklearn.model_selection import cross_val_score\n",
    "from IPython.core.display import display\n",
    "from eli5 import show_weights\n",
    "from sklearn.dummy import DummyRegressor\n",
    "\n",
    "def evaluate(reg):\n",
    "    print()\n",
    "    all_rmse = []\n",
    "    for cls in range(utils.N_CLASSES):\n",
    "        xs, ys = all_xs[cls], all_ys[cls]\n",
    "        rmse = np.sqrt(-cross_val_score(reg, xs, ys, scoring='neg_mean_squared_error', cv=5))\n",
    "        print('cls {}, target mean {:.2f}, RMSE {:.2f} +- {:.2f}'.format(\n",
    "            cls, np.mean(ys), np.mean(rmse), 2 * np.std(rmse)))\n",
    "        all_rmse.append(np.mean(rmse))\n",
    "        # reg.fit(xs, ys)\n",
    "        # display(show_weights(reg, target_names=['cls-{}'.format(cls)]))\n",
    "    print('Average RMSE for {}: {:.2f}'.format(type(reg), np.mean(all_rmse)))\n",
    "\n",
    "evaluate(DummyRegressor())\n",
    "  \n",
    "evaluate(Lasso(alpha=1.0, normalize=False, max_iter=100000))      "
   ]
  },
  {
   "cell_type": "code",
   "execution_count": 88,
   "metadata": {},
   "outputs": [
    {
     "name": "stdout",
     "output_type": "stream",
     "text": [
      "\n",
      "cls 0, target mean 5.27, RMSE 6.44 +- 1.82\n",
      "cls 1, target mean 4.29, RMSE 6.05 +- 1.98\n",
      "cls 2, target mean 37.08, RMSE 49.54 +- 15.04\n",
      "cls 3, target mean 21.16, RMSE 34.97 +- 12.23\n",
      "cls 4, target mean 16.30, RMSE 36.89 +- 14.36\n",
      "Average RMSE for <class 'xgboost.sklearn.XGBRegressor'>: 26.78\n"
     ]
    }
   ],
   "source": [
    "evaluate(XGBRegressor(n_estimators=10, max_depth=2))"
   ]
  },
  {
   "cell_type": "code",
   "execution_count": 91,
   "metadata": {},
   "outputs": [
    {
     "name": "stdout",
     "output_type": "stream",
     "text": [
      "\n",
      "cls 0, target mean 5.27, RMSE 6.25 +- 1.46\n",
      "cls 1, target mean 4.29, RMSE 6.06 +- 1.59\n",
      "cls 2, target mean 37.08, RMSE 39.14 +- 14.25\n",
      "cls 3, target mean 21.16, RMSE 30.40 +- 10.41\n",
      "cls 4, target mean 16.30, RMSE 31.45 +- 13.19\n",
      "Average RMSE for <class 'xgboost.sklearn.XGBRegressor'>: 22.66\n"
     ]
    }
   ],
   "source": [
    "evaluate(XGBRegressor(n_estimators=50, max_depth=2))"
   ]
  },
  {
   "cell_type": "code",
   "execution_count": 90,
   "metadata": {},
   "outputs": [
    {
     "name": "stdout",
     "output_type": "stream",
     "text": [
      "\n",
      "cls 0, target mean 5.27, RMSE 6.46 +- 1.69\n",
      "cls 1, target mean 4.29, RMSE 6.32 +- 1.53\n",
      "cls 2, target mean 37.08, RMSE 39.23 +- 15.35\n",
      "cls 3, target mean 21.16, RMSE 30.89 +- 12.19\n",
      "cls 4, target mean 16.30, RMSE 33.33 +- 13.50\n",
      "Average RMSE for <class 'xgboost.sklearn.XGBRegressor'>: 23.25\n"
     ]
    }
   ],
   "source": [
    "evaluate(XGBRegressor(n_estimators=100, max_depth=2))"
   ]
  },
  {
   "cell_type": "code",
   "execution_count": 86,
   "metadata": {
    "scrolled": false
   },
   "outputs": [
    {
     "name": "stdout",
     "output_type": "stream",
     "text": [
      "cls 0, target mean 5.27, RMSE 4.85 +- 1.37\n",
      "cls 1, target mean 4.29, RMSE 5.93 +- 1.03\n",
      "cls 2, target mean 37.08, RMSE 40.45 +- 7.44\n",
      "cls 3, target mean 21.16, RMSE 35.61 +- 9.19\n",
      "cls 4, target mean 16.30, RMSE 25.28 +- 10.50\n",
      "Average RMSE for <class 'sklearn.linear_model.coordinate_descent.Lasso'>: 22.42\n"
     ]
    }
   ],
   "source": [
    "def evaluate_stacked(reg):\n",
    "    stacked_xs = np.concatenate(all_xs, axis=1)\n",
    "    all_rmse = []\n",
    "    for cls in range(utils.N_CLASSES):\n",
    "        ys = all_ys[cls]\n",
    "        xs = stacked_xs\n",
    "        rmse = np.sqrt(-cross_val_score(reg, xs, ys, scoring='neg_mean_squared_error', cv=5))\n",
    "        print('cls {}, target mean {:.2f}, RMSE {:.2f} +- {:.2f}'.format(\n",
    "            cls, np.mean(ys), np.mean(rmse), 2 * np.std(rmse)))\n",
    "        all_rmse.append(np.mean(rmse))\n",
    "        # reg.fit(xs, ys)\n",
    "        # display(show_weights(reg, target_names=['cls-{}'.format(cls)]))\n",
    "    print('Average RMSE for {}: {:.2f}'.format(type(reg), np.mean(all_rmse)))\n",
    "\n",
    "evaluate_stacked(Lasso(alpha=1.0, normalize=False, max_iter=100000))"
   ]
  },
  {
   "cell_type": "code",
   "execution_count": 92,
   "metadata": {},
   "outputs": [
    {
     "name": "stdout",
     "output_type": "stream",
     "text": [
      "cls 0, target mean 5.27, RMSE 5.72 +- 1.72\n",
      "cls 1, target mean 4.29, RMSE 6.04 +- 1.98\n",
      "cls 2, target mean 37.08, RMSE 50.16 +- 12.26\n",
      "cls 3, target mean 21.16, RMSE 35.43 +- 11.22\n",
      "cls 4, target mean 16.30, RMSE 35.72 +- 10.01\n",
      "Average RMSE for <class 'xgboost.sklearn.XGBRegressor'>: 26.61\n"
     ]
    }
   ],
   "source": [
    "evaluate_stacked(XGBRegressor(n_estimators=10, max_depth=2))"
   ]
  },
  {
   "cell_type": "code",
   "execution_count": 97,
   "metadata": {},
   "outputs": [
    {
     "name": "stdout",
     "output_type": "stream",
     "text": [
      "cls 0, target mean 5.27, RMSE 5.72 +- 1.72\n",
      "cls 1, target mean 4.29, RMSE 6.04 +- 1.98\n",
      "cls 2, target mean 37.08, RMSE 50.16 +- 12.26\n",
      "cls 3, target mean 21.16, RMSE 35.43 +- 11.22\n",
      "cls 4, target mean 16.30, RMSE 35.72 +- 10.01\n",
      "Average RMSE for <class 'xgboost.sklearn.XGBRegressor'>: 26.61\n"
     ]
    }
   ],
   "source": [
    "evaluate_stacked(XGBRegressor(n_estimators=10, max_depth=2, objective='reg:linear'))"
   ]
  },
  {
   "cell_type": "code",
   "execution_count": 93,
   "metadata": {},
   "outputs": [
    {
     "name": "stdout",
     "output_type": "stream",
     "text": [
      "cls 0, target mean 5.27, RMSE 4.27 +- 1.24\n",
      "cls 1, target mean 4.29, RMSE 5.88 +- 1.49\n",
      "cls 2, target mean 37.08, RMSE 38.63 +- 10.13\n",
      "cls 3, target mean 21.16, RMSE 33.50 +- 12.84\n",
      "cls 4, target mean 16.30, RMSE 26.85 +- 9.80\n",
      "Average RMSE for <class 'xgboost.sklearn.XGBRegressor'>: 21.83\n"
     ]
    }
   ],
   "source": [
    "evaluate_stacked(XGBRegressor(n_estimators=100, max_depth=2))"
   ]
  },
  {
   "cell_type": "code",
   "execution_count": 98,
   "metadata": {},
   "outputs": [
    {
     "name": "stdout",
     "output_type": "stream",
     "text": [
      "cls 0, target mean 5.27, RMSE 4.35 +- 1.23\n",
      "cls 1, target mean 4.29, RMSE 5.87 +- 1.57\n",
      "cls 2, target mean 37.08, RMSE 39.00 +- 10.58\n",
      "cls 3, target mean 21.16, RMSE 33.41 +- 11.46\n",
      "cls 4, target mean 16.30, RMSE 26.50 +- 11.92\n",
      "Average RMSE for <class 'xgboost.sklearn.XGBRegressor'>: 21.82\n"
     ]
    }
   ],
   "source": [
    "evaluate_stacked(XGBRegressor(n_estimators=50, max_depth=2))"
   ]
  },
  {
   "cell_type": "code",
   "execution_count": 99,
   "metadata": {},
   "outputs": [
    {
     "name": "stdout",
     "output_type": "stream",
     "text": [
      "cls 0, target mean 5.27, RMSE 4.35 +- 1.32\n",
      "cls 1, target mean 4.29, RMSE 5.78 +- 1.46\n",
      "cls 2, target mean 37.08, RMSE 38.48 +- 10.60\n",
      "cls 3, target mean 21.16, RMSE 34.87 +- 11.95\n",
      "cls 4, target mean 16.30, RMSE 27.36 +- 9.64\n",
      "Average RMSE for <class 'xgboost.sklearn.XGBRegressor'>: 22.17\n"
     ]
    }
   ],
   "source": [
    "evaluate_stacked(XGBRegressor(n_estimators=300, learning_rate=0.03))"
   ]
  }
 ],
 "metadata": {
  "kernelspec": {
   "display_name": "Python 3",
   "language": "python",
   "name": "python3"
  },
  "language_info": {
   "codemirror_mode": {
    "name": "ipython",
    "version": 3
   },
   "file_extension": ".py",
   "mimetype": "text/x-python",
   "name": "python",
   "nbconvert_exporter": "python",
   "pygments_lexer": "ipython3",
   "version": "3.5.2"
  }
 },
 "nbformat": 4,
 "nbformat_minor": 2
}
