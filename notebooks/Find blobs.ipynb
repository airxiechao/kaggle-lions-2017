{
 "cells": [
  {
   "cell_type": "code",
   "execution_count": null,
   "metadata": {
    "collapsed": true
   },
   "outputs": [],
   "source": [
    "from pathlib import Path\n",
    "import numpy as np\n",
    "import gzip\n",
    "import matplotlib.pyplot as plt\n",
    "%matplotlib inline\n",
    "\n",
    "import sys\n",
    "if '..' not in sys.path:\n",
    "    sys.path.append('..')\n",
    "    \n",
    "import utils"
   ]
  },
  {
   "cell_type": "code",
   "execution_count": null,
   "metadata": {
    "collapsed": true
   },
   "outputs": [],
   "source": [
    "def load_pred(path):\n",
    "    with gzip.open(str(path), 'rb') as f:\n",
    "        return np.load(f).astype(np.float32) / 1000\n",
    "    \n",
    "def show(x, figsize=(10, 8)):\n",
    "    plt.figure(figsize=figsize)\n",
    "    plt.imshow(x)"
   ]
  },
  {
   "cell_type": "code",
   "execution_count": null,
   "metadata": {},
   "outputs": [],
   "source": [
    "IM_ID = 200\n",
    "pred = load_pred('../runs/unet-limit500/{}-pred.npy'.format(IM_ID))\n",
    "img = utils.load_image(Path('../data/Train/{}.jpg'.format(IM_ID)), cache=False)\n",
    "show(img)"
   ]
  },
  {
   "cell_type": "code",
   "execution_count": null,
   "metadata": {
    "scrolled": true
   },
   "outputs": [],
   "source": [
    "for cls in range(utils.N_CLASSES):\n",
    "    show(pred[cls])"
   ]
  },
  {
   "cell_type": "code",
   "execution_count": null,
   "metadata": {},
   "outputs": [],
   "source": [
    "colored_pred = utils.colored_prediction(pred)\n",
    "show(colored_pred)"
   ]
  },
  {
   "cell_type": "code",
   "execution_count": null,
   "metadata": {
    "collapsed": true
   },
   "outputs": [],
   "source": [
    "pred_patch = pred[:, 2000:3000, 4000:]\n",
    "img_patch = img[2000:3000, 4000:]\n",
    "colored_patch = colored_pred[2000:3000, 4000:]"
   ]
  },
  {
   "cell_type": "code",
   "execution_count": null,
   "metadata": {},
   "outputs": [],
   "source": [
    "show(4 * colored_patch)"
   ]
  },
  {
   "cell_type": "code",
   "execution_count": null,
   "metadata": {},
   "outputs": [],
   "source": [
    "show(img_patch)"
   ]
  },
  {
   "cell_type": "code",
   "execution_count": null,
   "metadata": {},
   "outputs": [],
   "source": [
    "plt.figure(figsize=(12, 10))\n",
    "plt.imshow(img_patch, alpha=0.5)\n",
    "plt.imshow(3 * colored_patch, alpha=0.5)"
   ]
  },
  {
   "cell_type": "code",
   "execution_count": null,
   "metadata": {},
   "outputs": [],
   "source": [
    "for cls, cls_pred in enumerate(pred_patch):\n",
    "    print(cls, cls_pred.max())"
   ]
  },
  {
   "cell_type": "code",
   "execution_count": null,
   "metadata": {},
   "outputs": [],
   "source": [
    "def downsample(img, ratio=8):\n",
    "    h, w = img.shape[:2]\n",
    "    h = int(h / ratio)\n",
    "    w = int(w / ratio)\n",
    "    return cv2.resize(img, (h, w))\n",
    "\n",
    "show(4 * downsample(colored_patch))"
   ]
  },
  {
   "cell_type": "code",
   "execution_count": null,
   "metadata": {
    "collapsed": true
   },
   "outputs": [],
   "source": [
    "def show_blobs(bg, blobs, s=4, scale=1):\n",
    "    bg = bg.copy()\n",
    "    for y, x, _ in blobs:\n",
    "        x, y = int(np.round(x * scale)), int(np.round(y * scale))\n",
    "        bg[y - s: y + s, x - s: x + s] = 1\n",
    "    show(bg)"
   ]
  },
  {
   "cell_type": "code",
   "execution_count": null,
   "metadata": {},
   "outputs": [],
   "source": [
    "scale = 4\n",
    "%time cls_blobs_fast = [blob_log(downsample(pred_patch[cls], scale), threshold=0.02, min_sigma=1, max_sigma=4, num_sigma=4) for cls in range(utils.N_CLASSES)]\n",
    "show_blobs(4 * colored_patch, [b for bs in cls_blobs_fast for b in bs], scale=scale)"
   ]
  },
  {
   "cell_type": "code",
   "execution_count": null,
   "metadata": {},
   "outputs": [],
   "source": [
    "%%time\n",
    "_ = [blob_log(downsample(pred[cls], 4), threshold=0.02, min_sigma=1, max_sigma=4, num_sigma=4) for cls in range(utils.N_CLASSES)]"
   ]
  },
  {
   "cell_type": "code",
   "execution_count": null,
   "metadata": {},
   "outputs": [],
   "source": [
    "%time cls_blobs = [blob_log(pred_patch[cls], threshold=0.02, min_sigma=4, max_sigma=16, num_sigma=4) for cls in range(utils.N_CLASSES)]\n",
    "show_blobs(4 * colored_patch, [b for bs in cls_blobs for b in bs])"
   ]
  },
  {
   "cell_type": "code",
   "execution_count": null,
   "metadata": {},
   "outputs": [],
   "source": [
    "import cv2\n",
    "\n",
    "params = cv2.SimpleBlobDetector_Params()\n",
    "params.minThreshold = 2;\n",
    "detector = cv2.SimpleBlobDetector_create(params)\n",
    "\n",
    "%time cls_keypoints = [detector.detect((pred_patch[cls] * 10000).astype(np.uint8)) for cls in range(utils.N_CLASSES)]\n",
    "\n",
    "# Draw detected blobs as red circles.\n",
    "# cv2.DRAW_MATCHES_FLAGS_DRAW_RICH_KEYPOINTS ensures the size of the circle corresponds to the size of blob\n",
    "# im_with_keypoints = cv2.drawKeypoints(colored_patch.copy(), keypoints, np.array([]), (0,0,255), cv2.DRAW_MATCHES_FLAGS_DRAW_RICH_KEYPOINTS)"
   ]
  },
  {
   "cell_type": "code",
   "execution_count": null,
   "metadata": {},
   "outputs": [],
   "source": [
    "def show_keypoints(bg, keypoints, s=2):\n",
    "    bg = bg.copy()\n",
    "    for k in keypoints:\n",
    "        x, y = k.pt\n",
    "        x, y = int(np.round(x)), int(np.round(y))\n",
    "        bg[y - s: y + s, x - s: x + s] = 1\n",
    "    show(bg)\n",
    "\n",
    "show_keypoints(4 * colored_patch, [kp for kps in cls_keypoints for kp in kps])"
   ]
  }
 ],
 "metadata": {
  "kernelspec": {
   "display_name": "Python 3",
   "language": "python",
   "name": "python3"
  },
  "language_info": {
   "codemirror_mode": {
    "name": "ipython",
    "version": 3
   },
   "file_extension": ".py",
   "mimetype": "text/x-python",
   "name": "python",
   "nbconvert_exporter": "python",
   "pygments_lexer": "ipython3",
   "version": "3.5.2"
  }
 },
 "nbformat": 4,
 "nbformat_minor": 2
}
