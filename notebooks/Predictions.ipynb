{
 "cells": [
  {
   "cell_type": "code",
   "execution_count": 2,
   "metadata": {
    "collapsed": true
   },
   "outputs": [],
   "source": [
    "from xgboost import XGBRegressor\n",
    "\n",
    "import sys\n",
    "if '..' not in sys.path:\n",
    "    sys.path.append('..')\n",
    "\n",
    "%matplotlib inline\n",
    "import numpy as np\n",
    "from matplotlib import pyplot as plt\n",
    "from pathlib import Path\n",
    "import cv2\n",
    "\n",
    "import utils"
   ]
  },
  {
   "cell_type": "code",
   "execution_count": 4,
   "metadata": {},
   "outputs": [
    {
     "data": {
      "text/plain": [
       "((3744, 5616, 3), (6, 113, 172))"
      ]
     },
     "execution_count": 4,
     "metadata": {},
     "output_type": "execute_result"
    }
   ],
   "source": [
    "IMG_ID = 286 # 286 # 792 #  # 323, 119\n",
    "FEAT_ROOT = '../runs/blf-resnet18-lr0.00002-bs-32-neg-5-ps-160-shift-32/'\n",
    "# '../runs/blf-resnet18-lr0.00002-bs-32-neg-5/'\n",
    "img = utils.load_image(Path('../data/Train/{}.jpg'.format(IMG_ID)), cache=False)\n",
    "pred = np.load('{}/{}-pred.npy'.format(FEAT_ROOT, IMG_ID))\n",
    "img.shape, pred.shape"
   ]
  },
  {
   "cell_type": "code",
   "execution_count": null,
   "metadata": {},
   "outputs": [],
   "source": [
    "plt.figure(figsize=(12, 10))\n",
    "plt.imshow(img);"
   ]
  },
  {
   "cell_type": "code",
   "execution_count": null,
   "metadata": {},
   "outputs": [],
   "source": [
    "y, x = 3525, 790\n",
    "patch = img[y: y + 96, x: x + 96]\n",
    "plt.imshow(patch);"
   ]
  },
  {
   "cell_type": "code",
   "execution_count": 28,
   "metadata": {},
   "outputs": [
    {
     "name": "stdout",
     "output_type": "stream",
     "text": [
      "Loaded model from epoch 99, step 245,000\n"
     ]
    }
   ],
   "source": [
    "import cnn_baseline\n",
    "import torchvision.models\n",
    "import torch.nn\n",
    "\n",
    "model = torchvision.models.resnet18(num_classes=utils.N_CLASSES + 1)\n",
    "model.avgpool = torch.nn.AvgPool2d(96 // 32, stride=1)\n",
    "model = utils.cuda(model)\n",
    "cnn_baseline.load_best_model(model, Path(FEAT_ROOT))"
   ]
  },
  {
   "cell_type": "code",
   "execution_count": 33,
   "metadata": {},
   "outputs": [
    {
     "data": {
      "text/plain": [
       "Variable containing:\n",
       " 0.0018  0.0016  0.0059  0.0046  0.0017  0.9844\n",
       "[torch.cuda.FloatTensor of size 1x6 (GPU 0)]"
      ]
     },
     "execution_count": 33,
     "metadata": {},
     "output_type": "execute_result"
    }
   ],
   "source": [
    "from torch.nn import functional as F\n",
    "\n",
    "inputs = cnn_baseline.img_transform(patch)\n",
    "inputs = inputs.unsqueeze(0)\n",
    "outputs = F.softmax(model(utils.variable(inputs, volatile=True)))\n",
    "outputs"
   ]
  },
  {
   "cell_type": "code",
   "execution_count": null,
   "metadata": {
    "scrolled": false
   },
   "outputs": [],
   "source": [
    "size = (500, 350)\n",
    "small_img = cv2.resize(img, size)\n",
    "pred_sum = pred[:utils.N_CLASSES].sum(axis=0)\n",
    "\n",
    "#\"\"\"\n",
    "for cls in range(utils.N_CLASSES):\n",
    "    #plt.figure(figsize=(12, 10))\n",
    "    plt.imshow(small_img)\n",
    "    plt.imshow(cv2.resize(pred[cls], size), alpha=0.5)\n",
    "    plt.show()\n",
    "#\"\"\"\n",
    "\n",
    "plt.figure(figsize=(12, 10))\n",
    "plt.imshow(small_img)\n",
    "plt.imshow(cv2.resize(pred_sum, size), alpha=0.7)\n",
    "plt.show()"
   ]
  },
  {
   "cell_type": "code",
   "execution_count": 5,
   "metadata": {
    "collapsed": true
   },
   "outputs": [],
   "source": [
    "all_coords = utils.load_coords()"
   ]
  },
  {
   "cell_type": "code",
   "execution_count": 55,
   "metadata": {},
   "outputs": [
    {
     "data": {
      "text/plain": [
       "<matplotlib.axes._subplots.AxesSubplot at 0x7fe7b4032d30>"
      ]
     },
     "execution_count": 55,
     "metadata": {},
     "output_type": "execute_result"
    },
    {
     "data": {
      "image/png": "[encoded data removed]",
      "text/plain": [
       "<matplotlib.figure.Figure at 0x7fe7b40323c8>"
      ]
     },
     "metadata": {},
     "output_type": "display_data"
    }
   ],
   "source": [
    "all_coords.cls.hist()"
   ]
  },
  {
   "cell_type": "code",
   "execution_count": 25,
   "metadata": {
    "collapsed": true,
    "scrolled": false
   },
   "outputs": [],
   "source": [
    "def load_features(cls):\n",
    "    xs = []\n",
    "    ys = []\n",
    "    for pred_path in Path(FEAT_ROOT).glob('*-pred.npy'):\n",
    "        img_id = int(pred_path.name.split('-')[0])\n",
    "        try:\n",
    "            ys.append(\n",
    "                (all_coords.loc[img_id].cls == cls).sum())\n",
    "        except KeyError:\n",
    "            ys.append(0)\n",
    "        cls_pred = np.load(str(pred_path))[cls]\n",
    "        x = []\n",
    "        thresholds = [0.05, 0.25, 0.45]\n",
    "        for i, threshold in enumerate(thresholds):\n",
    "            bin_mask = cls_pred > threshold\n",
    "            if i + 1 < len(thresholds):\n",
    "                bin_mask &= cls_pred < thresholds[i + 1]\n",
    "            x.append(bin_mask.sum())\n",
    "        # x.append(cls_pred.sum())\n",
    "        xs.append(x)\n",
    "        # print(img_id, ys[-1], x)\n",
    "\n",
    "    xs = np.array(xs)\n",
    "    ys = np.array(ys)\n",
    "    return xs, ys\n",
    "\n",
    "all_xs, all_ys = [], []\n",
    "for cls in range(utils.N_CLASSES):\n",
    "    xs, ys = load_features(cls)\n",
    "    all_xs.append(xs)\n",
    "    all_ys.append(ys)\n",
    "    # break"
   ]
  },
  {
   "cell_type": "code",
   "execution_count": 43,
   "metadata": {},
   "outputs": [
    {
     "name": "stdout",
     "output_type": "stream",
     "text": [
      "2.02105263158\n",
      "0.0\n",
      "22.8842105263\n",
      "10.4105263158\n",
      "309.336842105\n"
     ]
    }
   ],
   "source": [
    "for cls in range(utils.N_CLASSES):\n",
    "    print(all_xs[cls][:, 1].mean())"
   ]
  },
  {
   "cell_type": "code",
   "execution_count": 12,
   "metadata": {},
   "outputs": [
    {
     "data": {
      "text/plain": [
       "<matplotlib.collections.PathCollection at 0x7f4e740d9f98>"
      ]
     },
     "execution_count": 12,
     "metadata": {},
     "output_type": "execute_result"
    },
    {
     "data": {
      "image/png": "[encoded data removed]",
      "text/plain": [
       "<matplotlib.figure.Figure at 0x7f4e6c17d828>"
      ]
     },
     "metadata": {},
     "output_type": "display_data"
    }
   ],
   "source": [
    "plt.scatter(all_xs[0][:, 0], all_ys[0])"
   ]
  },
  {
   "cell_type": "code",
   "execution_count": 42,
   "metadata": {},
   "outputs": [
    {
     "name": "stdout",
     "output_type": "stream",
     "text": [
      "cls 0, target mean 5.46, RMSE 6.03 +- 2.87\n",
      "cls 1, target mean 3.97, RMSE 5.82 +- 3.08\n",
      "cls 2, target mean 32.66, RMSE 57.27 +- 30.90\n",
      "cls 3, target mean 16.22, RMSE 21.25 +- 5.76\n",
      "cls 4, target mean 12.73, RMSE 30.26 +- 13.55\n",
      "Average RMSE: 24.13\n"
     ]
    }
   ],
   "source": [
    "from sklearn.linear_model import LinearRegression, Ridge, Lasso, LassoCV\n",
    "from sklearn.model_selection import cross_val_score\n",
    "from IPython.core.display import display\n",
    "from eli5 import show_weights\n",
    "from sklearn.dummy import DummyRegressor\n",
    "\n",
    "all_rmse = []\n",
    "for cls in range(utils.N_CLASSES):\n",
    "    reg = Lasso(alpha=1.0, normalize=True, max_iter=10000)\n",
    "    # reg = XGBRegressor(n_estimators=20, max_depth=2)\n",
    "    # reg = DummyRegressor()\n",
    "    xs, ys = all_xs[cls], all_ys[cls]\n",
    "    rmse = np.sqrt(-cross_val_score(reg, xs, ys, scoring='neg_mean_squared_error', cv=3))\n",
    "    print('cls {}, target mean {:.2f}, RMSE {:.2f} +- {:.2f}'.format(\n",
    "        cls, np.mean(ys), np.mean(rmse), 2 * np.std(rmse)))\n",
    "    all_rmse.append(np.mean(rmse))\n",
    "    # reg.fit(xs, ys)\n",
    "    # display(show_weights(reg, target_names=['cls-{}'.format(cls)]))\n",
    "print('Average RMSE: {:.2f}'.format(np.mean(all_rmse)))"
   ]
  },
  {
   "cell_type": "code",
   "execution_count": 152,
   "metadata": {},
   "outputs": [
    {
     "name": "stdout",
     "output_type": "stream",
     "text": [
      "cls 0, target mean 5.46, RMSE 5.99 +- 3.43\n",
      "cls 1, target mean 3.97, RMSE 5.52 +- 4.94\n",
      "cls 2, target mean 32.66, RMSE 44.93 +- 32.45\n",
      "cls 3, target mean 16.22, RMSE 22.95 +- 6.31\n",
      "cls 4, target mean 12.73, RMSE 29.06 +- 22.00\n",
      "Average RMSE: 21.69\n"
     ]
    }
   ],
   "source": [
    "stacked_xs = np.concatenate(all_xs, axis=1)\n",
    "\n",
    "all_rmse = []\n",
    "for cls in range(utils.N_CLASSES):\n",
    "    reg = Lasso(normalize=True)\n",
    "    ys = all_ys[cls]\n",
    "    xs = stacked_xs\n",
    "    rmse = np.sqrt(-cross_val_score(reg, xs, ys, scoring='neg_mean_squared_error', cv=5))\n",
    "    print('cls {}, target mean {:.2f}, RMSE {:.2f} +- {:.2f}'.format(\n",
    "        cls, np.mean(ys), np.mean(rmse), 2 * np.std(rmse)))\n",
    "    all_rmse.append(np.mean(rmse))\n",
    "    # reg.fit(xs, ys)\n",
    "    # display(show_weights(reg, target_names=['cls-{}'.format(cls)]))\n",
    "print('Average RMSE: {:.2f}'.format(np.mean(all_rmse)))"
   ]
  },
  {
   "cell_type": "code",
   "execution_count": 151,
   "metadata": {},
   "outputs": [
    {
     "name": "stdout",
     "output_type": "stream",
     "text": [
      "RMSE 27.74 +- 15.87\n"
     ]
    }
   ],
   "source": [
    "from sklearn.linear_model import MultiTaskLasso\n",
    "\n",
    "xs = stacked_xs\n",
    "ys = np.stack(all_ys, axis=1)\n",
    "reg = MultiTaskLasso(normalize=True)\n",
    "mse = -cross_val_score(reg, xs, ys, scoring='neg_mean_squared_error', cv=5)\n",
    "print('RMSE {:.2f} +- {:.2f}'.format(\n",
    "      np.sqrt(np.mean(mse)), 2 * np.std(np.sqrt(mse))))"
   ]
  }
 ],
 "metadata": {
  "kernelspec": {
   "display_name": "Python 3",
   "language": "python",
   "name": "python3"
  },
  "language_info": {
   "codemirror_mode": {
    "name": "ipython",
    "version": 3
   },
   "file_extension": ".py",
   "mimetype": "text/x-python",
   "name": "python",
   "nbconvert_exporter": "python",
   "pygments_lexer": "ipython3",
   "version": "3.5.2"
  }
 },
 "nbformat": 4,
 "nbformat_minor": 2
}
