{
 "cells": [
  {
   "cell_type": "code",
   "execution_count": 39,
   "metadata": {
    "collapsed": true
   },
   "outputs": [],
   "source": [
    "from pathlib import Path\n",
    "import pandas as pd\n",
    "import numpy as np\n",
    "\n",
    "import sys\n",
    "if '..' not in sys.path:\n",
    "    sys.path.append('..')\n",
    "    \n",
    "import utils"
   ]
  },
  {
   "cell_type": "code",
   "execution_count": 4,
   "metadata": {},
   "outputs": [
    {
     "data": {
      "text/plain": [
       "948"
      ]
     },
     "execution_count": 4,
     "metadata": {},
     "output_type": "execute_result"
    }
   ],
   "source": [
    "train_paths = list(utils.DATA_ROOT.joinpath('Train').glob('*.jpg'))\n",
    "len(train_paths)"
   ]
  },
  {
   "cell_type": "code",
   "execution_count": 51,
   "metadata": {
    "collapsed": true
   },
   "outputs": [],
   "source": [
    "coords = utils.load_coords()"
   ]
  },
  {
   "cell_type": "code",
   "execution_count": 16,
   "metadata": {},
   "outputs": [
    {
     "data": {
      "text/html": [
       "<div>\n",
       "<table border=\"1\" class=\"dataframe\">\n",
       "  <thead>\n",
       "    <tr style=\"text-align: right;\">\n",
       "      <th></th>\n",
       "      <th>train_id</th>\n",
       "    </tr>\n",
       "  </thead>\n",
       "  <tbody>\n",
       "    <tr>\n",
       "      <th>47</th>\n",
       "      <td>840</td>\n",
       "    </tr>\n",
       "    <tr>\n",
       "      <th>48</th>\n",
       "      <td>869</td>\n",
       "    </tr>\n",
       "    <tr>\n",
       "      <th>49</th>\n",
       "      <td>882</td>\n",
       "    </tr>\n",
       "    <tr>\n",
       "      <th>50</th>\n",
       "      <td>901</td>\n",
       "    </tr>\n",
       "    <tr>\n",
       "      <th>51</th>\n",
       "      <td>903</td>\n",
       "    </tr>\n",
       "    <tr>\n",
       "      <th>52</th>\n",
       "      <td>905</td>\n",
       "    </tr>\n",
       "    <tr>\n",
       "      <th>53</th>\n",
       "      <td>909</td>\n",
       "    </tr>\n",
       "    <tr>\n",
       "      <th>54</th>\n",
       "      <td>913</td>\n",
       "    </tr>\n",
       "    <tr>\n",
       "      <th>55</th>\n",
       "      <td>927</td>\n",
       "    </tr>\n",
       "    <tr>\n",
       "      <th>56</th>\n",
       "      <td>946</td>\n",
       "    </tr>\n",
       "  </tbody>\n",
       "</table>\n",
       "</div>"
      ],
      "text/plain": [
       "    train_id\n",
       "47       840\n",
       "48       869\n",
       "49       882\n",
       "50       901\n",
       "51       903\n",
       "52       905\n",
       "53       909\n",
       "54       913\n",
       "55       927\n",
       "56       946"
      ]
     },
     "execution_count": 16,
     "metadata": {},
     "output_type": "execute_result"
    }
   ],
   "source": [
    "mismatched = pd.read_csv(str(utils.DATA_ROOT.joinpath('MismatchedTrainImages.txt')))\n",
    "mismatched[-10:]"
   ]
  },
  {
   "cell_type": "code",
   "execution_count": 83,
   "metadata": {},
   "outputs": [
    {
     "data": {
      "text/plain": [
       "tid\n",
       "7       60\n",
       "215      4\n",
       "331     34\n",
       "344     30\n",
       "406    213\n",
       "421      4\n",
       "469     17\n",
       "475    158\n",
       "530     44\n",
       "605     17\n",
       "607     22\n",
       "638      4\n",
       "644     35\n",
       "781     53\n",
       "794    202\n",
       "882     29\n",
       "901    168\n",
       "Name: row, dtype: int64"
      ]
     },
     "execution_count": 83,
     "metadata": {},
     "output_type": "execute_result"
    }
   ],
   "source": [
    "mmcoords = coords.loc[mismatched.train_id].dropna()\n",
    "mmcoords.groupby(mmcoords.index).count().row"
   ]
  },
  {
   "cell_type": "code",
   "execution_count": 53,
   "metadata": {},
   "outputs": [
    {
     "data": {
      "text/html": [
       "<div>\n",
       "<table border=\"1\" class=\"dataframe\">\n",
       "  <thead>\n",
       "    <tr style=\"text-align: right;\">\n",
       "      <th></th>\n",
       "      <th>cls</th>\n",
       "      <th>row</th>\n",
       "      <th>col</th>\n",
       "    </tr>\n",
       "    <tr>\n",
       "      <th>tid</th>\n",
       "      <th></th>\n",
       "      <th></th>\n",
       "      <th></th>\n",
       "    </tr>\n",
       "  </thead>\n",
       "  <tbody>\n",
       "    <tr>\n",
       "      <th>0</th>\n",
       "      <td>0</td>\n",
       "      <td>106.0</td>\n",
       "      <td>4835.0</td>\n",
       "    </tr>\n",
       "    <tr>\n",
       "      <th>0</th>\n",
       "      <td>0</td>\n",
       "      <td>309.0</td>\n",
       "      <td>2609.0</td>\n",
       "    </tr>\n",
       "    <tr>\n",
       "      <th>0</th>\n",
       "      <td>0</td>\n",
       "      <td>412.0</td>\n",
       "      <td>2891.0</td>\n",
       "    </tr>\n",
       "  </tbody>\n",
       "</table>\n",
       "</div>"
      ],
      "text/plain": [
       "     cls    row     col\n",
       "tid                    \n",
       "0      0  106.0  4835.0\n",
       "0      0  309.0  2609.0\n",
       "0      0  412.0  2891.0"
      ]
     },
     "execution_count": 53,
     "metadata": {},
     "output_type": "execute_result"
    }
   ],
   "source": [
    "coords = utils.load_coords()\n",
    "coords2 = (\n",
    "    pd.read_csv('../data/coords-31472.csv')\n",
    "    .rename(columns={'image_id': 'tid', 'klass': 'cls', 'x': 'col', 'y': 'row'})\n",
    "    .set_index('tid')\n",
    "    [['cls', 'row', 'col']]\n",
    ")\n",
    "coords2.row = coords2.row.astype(np.float32)\n",
    "coords2.col = coords2.col.astype(np.float32)\n",
    "coords2[:3]"
   ]
  },
  {
   "cell_type": "code",
   "execution_count": 54,
   "metadata": {},
   "outputs": [
    {
     "data": {
      "text/plain": [
       "Int64Index([], dtype='int64', name='tid')"
      ]
     },
     "execution_count": 54,
     "metadata": {},
     "output_type": "execute_result"
    }
   ],
   "source": [
    "coords.index.difference(coords2.index)"
   ]
  },
  {
   "cell_type": "code",
   "execution_count": 71,
   "metadata": {},
   "outputs": [
    {
     "name": "stdout",
     "output_type": "stream",
     "text": [
      "tid=6 cls=0 2 1\n",
      "tid=15 cls=2 33 32\n",
      "tid=491 cls=3 4 3\n",
      "tid=545 cls=0 2 3\n",
      "tid=816 cls=0 3 2\n",
      "tid=816 cls=2 35 34\n",
      "tid=816 cls=3 33 16\n",
      "tid=912 cls=2 247 248\n"
     ]
    }
   ],
   "source": [
    "for tid in set(coords.index):\n",
    "    counts1 = coords.loc[[tid]].groupby('cls').count().row\n",
    "    counts2 = coords2.loc[[tid]].groupby('cls').count().row\n",
    "    for cls in range(utils.N_CLASSES):\n",
    "        try:\n",
    "            c1 = counts1.loc[cls]\n",
    "        except KeyError:\n",
    "            c1 = 0\n",
    "        try:\n",
    "            c2 = counts2.loc[cls]\n",
    "        except KeyError:\n",
    "            c2 = 0\n",
    "        if c1 != c2:\n",
    "            print('tid={} cls={} {} {}'.format(tid, cls, c1, c2))"
   ]
  }
 ],
 "metadata": {
  "kernelspec": {
   "display_name": "Python 3",
   "language": "python",
   "name": "python3"
  },
  "language_info": {
   "codemirror_mode": {
    "name": "ipython",
    "version": 3
   },
   "file_extension": ".py",
   "mimetype": "text/x-python",
   "name": "python",
   "nbconvert_exporter": "python",
   "pygments_lexer": "ipython3",
   "version": "3.5.2"
  }
 },
 "nbformat": 4,
 "nbformat_minor": 2
}
