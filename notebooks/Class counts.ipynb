{
 "cells": [
  {
   "cell_type": "code",
   "execution_count": 1,
   "metadata": {
    "collapsed": true
   },
   "outputs": [],
   "source": [
    "import pandas as pd\n",
    "import matplotlib.pyplot as plt\n",
    "%matplotlib inline"
   ]
  },
  {
   "cell_type": "code",
   "execution_count": 2,
   "metadata": {
    "collapsed": true
   },
   "outputs": [],
   "source": [
    "train = pd.read_csv('../data/Train/train.csv', index_col=0)"
   ]
  },
  {
   "cell_type": "code",
   "execution_count": 3,
   "metadata": {
    "scrolled": false
   },
   "outputs": [
    {
     "data": {
      "text/html": [
       "<div>\n",
       "<table border=\"1\" class=\"dataframe\">\n",
       "  <thead>\n",
       "    <tr style=\"text-align: right;\">\n",
       "      <th></th>\n",
       "      <th>adult_males</th>\n",
       "      <th>subadult_males</th>\n",
       "      <th>adult_females</th>\n",
       "      <th>juveniles</th>\n",
       "      <th>pups</th>\n",
       "    </tr>\n",
       "    <tr>\n",
       "      <th>train_id</th>\n",
       "      <th></th>\n",
       "      <th></th>\n",
       "      <th></th>\n",
       "      <th></th>\n",
       "      <th></th>\n",
       "    </tr>\n",
       "  </thead>\n",
       "  <tbody>\n",
       "    <tr>\n",
       "      <th>0</th>\n",
       "      <td>62</td>\n",
       "      <td>12</td>\n",
       "      <td>486</td>\n",
       "      <td>42</td>\n",
       "      <td>344</td>\n",
       "    </tr>\n",
       "    <tr>\n",
       "      <th>1</th>\n",
       "      <td>2</td>\n",
       "      <td>20</td>\n",
       "      <td>0</td>\n",
       "      <td>12</td>\n",
       "      <td>0</td>\n",
       "    </tr>\n",
       "    <tr>\n",
       "      <th>2</th>\n",
       "      <td>2</td>\n",
       "      <td>0</td>\n",
       "      <td>38</td>\n",
       "      <td>20</td>\n",
       "      <td>0</td>\n",
       "    </tr>\n",
       "    <tr>\n",
       "      <th>3</th>\n",
       "      <td>8</td>\n",
       "      <td>5</td>\n",
       "      <td>41</td>\n",
       "      <td>7</td>\n",
       "      <td>38</td>\n",
       "    </tr>\n",
       "    <tr>\n",
       "      <th>4</th>\n",
       "      <td>6</td>\n",
       "      <td>9</td>\n",
       "      <td>2</td>\n",
       "      <td>0</td>\n",
       "      <td>0</td>\n",
       "    </tr>\n",
       "  </tbody>\n",
       "</table>\n",
       "</div>"
      ],
      "text/plain": [
       "          adult_males  subadult_males  adult_females  juveniles  pups\n",
       "train_id                                                             \n",
       "0                  62              12            486         42   344\n",
       "1                   2              20              0         12     0\n",
       "2                   2               0             38         20     0\n",
       "3                   8               5             41          7    38\n",
       "4                   6               9              2          0     0"
      ]
     },
     "execution_count": 3,
     "metadata": {},
     "output_type": "execute_result"
    }
   ],
   "source": [
    "train[:5]"
   ]
  },
  {
   "cell_type": "code",
   "execution_count": 4,
   "metadata": {},
   "outputs": [
    {
     "data": {
      "image/png": "[encoded data removed]",
      "text/plain": [
       "<matplotlib.figure.Figure at 0x7f46d8499a20>"
      ]
     },
     "metadata": {},
     "output_type": "display_data"
    }
   ],
   "source": [
    "train.hist(figsize=(12, 10), bins=20, log=True);"
   ]
  },
  {
   "cell_type": "code",
   "execution_count": 8,
   "metadata": {},
   "outputs": [
    {
     "data": {
      "image/png": "[encoded data removed]",
      "text/plain": [
       "<matplotlib.figure.Figure at 0x7f46d8277da0>"
      ]
     },
     "metadata": {},
     "output_type": "display_data"
    }
   ],
   "source": [
    "train.hist(figsize=(12, 10), bins=20);"
   ]
  },
  {
   "cell_type": "code",
   "execution_count": 5,
   "metadata": {
    "collapsed": true
   },
   "outputs": [],
   "source": [
    "pred = pd.read_csv('../unet-limit800-fold3-scale-0.5-1.5-all-sums.csv', index_col=0)"
   ]
  },
  {
   "cell_type": "code",
   "execution_count": 6,
   "metadata": {},
   "outputs": [
    {
     "data": {
      "image/png": "[encoded data removed]",
      "text/plain": [
       "<matplotlib.figure.Figure at 0x7f7e75d20dd8>"
      ]
     },
     "metadata": {},
     "output_type": "display_data"
    }
   ],
   "source": [
    "pred.hist(figsize=(12, 10), bins=20, log=True);"
   ]
  },
  {
   "cell_type": "code",
   "execution_count": 7,
   "metadata": {},
   "outputs": [
    {
     "data": {
      "text/plain": [
       "17.789332474779997"
      ]
     },
     "execution_count": 7,
     "metadata": {},
     "output_type": "execute_result"
    }
   ],
   "source": [
    "pred.pups.mean()"
   ]
  },
  {
   "cell_type": "code",
   "execution_count": 10,
   "metadata": {},
   "outputs": [
    {
     "data": {
      "image/png": "[encoded data removed]",
      "text/plain": [
       "<matplotlib.figure.Figure at 0x7fb42f899eb8>"
      ]
     },
     "metadata": {},
     "output_type": "display_data"
    }
   ],
   "source": [
    "pred2 = pd.read_csv('../unet-limit800-fold3-scale-0.5-1.5-test0.75-sums.csv', index_col=0)\n",
    "pred2.hist(figsize=(12, 10), bins=20, log=True);"
   ]
  },
  {
   "cell_type": "code",
   "execution_count": 20,
   "metadata": {},
   "outputs": [
    {
     "data": {
      "image/png": "[encoded data removed]",
      "text/plain": [
       "<matplotlib.figure.Figure at 0x7fb430142940>"
      ]
     },
     "metadata": {},
     "output_type": "display_data"
    }
   ],
   "source": [
    "pred3 = pd.read_csv('../unet-limit800-fold3-scale-0.5-1.5-test0.75-blobs.csv', index_col=0)\n",
    "pred3.hist(figsize=(12, 10), bins=20, log=True);"
   ]
  },
  {
   "cell_type": "code",
   "execution_count": 12,
   "metadata": {},
   "outputs": [
    {
     "data": {
      "text/html": [
       "<div>\n",
       "<table border=\"1\" class=\"dataframe\">\n",
       "  <thead>\n",
       "    <tr style=\"text-align: right;\">\n",
       "      <th></th>\n",
       "      <th>adult_males</th>\n",
       "      <th>subadult_males</th>\n",
       "      <th>adult_females</th>\n",
       "      <th>juveniles</th>\n",
       "      <th>pups</th>\n",
       "    </tr>\n",
       "  </thead>\n",
       "  <tbody>\n",
       "    <tr>\n",
       "      <th>count</th>\n",
       "      <td>18636.000000</td>\n",
       "      <td>18636.000000</td>\n",
       "      <td>18636.000000</td>\n",
       "      <td>18636.000000</td>\n",
       "      <td>18636.000000</td>\n",
       "    </tr>\n",
       "    <tr>\n",
       "      <th>mean</th>\n",
       "      <td>2.793142</td>\n",
       "      <td>2.076519</td>\n",
       "      <td>27.553552</td>\n",
       "      <td>15.581831</td>\n",
       "      <td>17.789332</td>\n",
       "    </tr>\n",
       "    <tr>\n",
       "      <th>std</th>\n",
       "      <td>3.117359</td>\n",
       "      <td>1.795365</td>\n",
       "      <td>39.611010</td>\n",
       "      <td>27.003145</td>\n",
       "      <td>37.871431</td>\n",
       "    </tr>\n",
       "    <tr>\n",
       "      <th>min</th>\n",
       "      <td>0.000000</td>\n",
       "      <td>0.000000</td>\n",
       "      <td>0.000000</td>\n",
       "      <td>0.000000</td>\n",
       "      <td>0.000000</td>\n",
       "    </tr>\n",
       "    <tr>\n",
       "      <th>25%</th>\n",
       "      <td>1.000000</td>\n",
       "      <td>1.000000</td>\n",
       "      <td>2.000000</td>\n",
       "      <td>1.000000</td>\n",
       "      <td>1.000000</td>\n",
       "    </tr>\n",
       "    <tr>\n",
       "      <th>50%</th>\n",
       "      <td>2.000000</td>\n",
       "      <td>2.000000</td>\n",
       "      <td>11.000000</td>\n",
       "      <td>5.000000</td>\n",
       "      <td>3.000000</td>\n",
       "    </tr>\n",
       "    <tr>\n",
       "      <th>75%</th>\n",
       "      <td>4.000000</td>\n",
       "      <td>3.000000</td>\n",
       "      <td>37.000000</td>\n",
       "      <td>18.000000</td>\n",
       "      <td>15.000000</td>\n",
       "    </tr>\n",
       "    <tr>\n",
       "      <th>max</th>\n",
       "      <td>36.000000</td>\n",
       "      <td>15.000000</td>\n",
       "      <td>406.000000</td>\n",
       "      <td>332.000000</td>\n",
       "      <td>517.000000</td>\n",
       "    </tr>\n",
       "  </tbody>\n",
       "</table>\n",
       "</div>"
      ],
      "text/plain": [
       "        adult_males  subadult_males  adult_females     juveniles          pups\n",
       "count  18636.000000    18636.000000   18636.000000  18636.000000  18636.000000\n",
       "mean       2.793142        2.076519      27.553552     15.581831     17.789332\n",
       "std        3.117359        1.795365      39.611010     27.003145     37.871431\n",
       "min        0.000000        0.000000       0.000000      0.000000      0.000000\n",
       "25%        1.000000        1.000000       2.000000      1.000000      1.000000\n",
       "50%        2.000000        2.000000      11.000000      5.000000      3.000000\n",
       "75%        4.000000        3.000000      37.000000     18.000000     15.000000\n",
       "max       36.000000       15.000000     406.000000    332.000000    517.000000"
      ]
     },
     "execution_count": 12,
     "metadata": {},
     "output_type": "execute_result"
    }
   ],
   "source": [
    "pred.describe()"
   ]
  },
  {
   "cell_type": "code",
   "execution_count": 13,
   "metadata": {},
   "outputs": [
    {
     "data": {
      "text/html": [
       "<div>\n",
       "<table border=\"1\" class=\"dataframe\">\n",
       "  <thead>\n",
       "    <tr style=\"text-align: right;\">\n",
       "      <th></th>\n",
       "      <th>adult_males</th>\n",
       "      <th>subadult_males</th>\n",
       "      <th>adult_females</th>\n",
       "      <th>juveniles</th>\n",
       "      <th>pups</th>\n",
       "    </tr>\n",
       "  </thead>\n",
       "  <tbody>\n",
       "    <tr>\n",
       "      <th>count</th>\n",
       "      <td>18636.000000</td>\n",
       "      <td>18636.000000</td>\n",
       "      <td>18636.000000</td>\n",
       "      <td>18636.000000</td>\n",
       "      <td>18636.000000</td>\n",
       "    </tr>\n",
       "    <tr>\n",
       "      <th>mean</th>\n",
       "      <td>3.912535</td>\n",
       "      <td>2.993024</td>\n",
       "      <td>35.260464</td>\n",
       "      <td>14.766795</td>\n",
       "      <td>18.519264</td>\n",
       "    </tr>\n",
       "    <tr>\n",
       "      <th>std</th>\n",
       "      <td>4.190932</td>\n",
       "      <td>2.668593</td>\n",
       "      <td>49.848775</td>\n",
       "      <td>28.702587</td>\n",
       "      <td>39.357858</td>\n",
       "    </tr>\n",
       "    <tr>\n",
       "      <th>min</th>\n",
       "      <td>0.000000</td>\n",
       "      <td>0.000000</td>\n",
       "      <td>0.000000</td>\n",
       "      <td>0.000000</td>\n",
       "      <td>0.000000</td>\n",
       "    </tr>\n",
       "    <tr>\n",
       "      <th>25%</th>\n",
       "      <td>1.000000</td>\n",
       "      <td>1.000000</td>\n",
       "      <td>4.000000</td>\n",
       "      <td>2.000000</td>\n",
       "      <td>1.000000</td>\n",
       "    </tr>\n",
       "    <tr>\n",
       "      <th>50%</th>\n",
       "      <td>3.000000</td>\n",
       "      <td>2.000000</td>\n",
       "      <td>15.000000</td>\n",
       "      <td>5.000000</td>\n",
       "      <td>4.000000</td>\n",
       "    </tr>\n",
       "    <tr>\n",
       "      <th>75%</th>\n",
       "      <td>5.000000</td>\n",
       "      <td>4.000000</td>\n",
       "      <td>47.000000</td>\n",
       "      <td>16.000000</td>\n",
       "      <td>15.000000</td>\n",
       "    </tr>\n",
       "    <tr>\n",
       "      <th>max</th>\n",
       "      <td>50.000000</td>\n",
       "      <td>29.000000</td>\n",
       "      <td>474.000000</td>\n",
       "      <td>1159.000000</td>\n",
       "      <td>585.000000</td>\n",
       "    </tr>\n",
       "  </tbody>\n",
       "</table>\n",
       "</div>"
      ],
      "text/plain": [
       "        adult_males  subadult_males  adult_females     juveniles          pups\n",
       "count  18636.000000    18636.000000   18636.000000  18636.000000  18636.000000\n",
       "mean       3.912535        2.993024      35.260464     14.766795     18.519264\n",
       "std        4.190932        2.668593      49.848775     28.702587     39.357858\n",
       "min        0.000000        0.000000       0.000000      0.000000      0.000000\n",
       "25%        1.000000        1.000000       4.000000      2.000000      1.000000\n",
       "50%        3.000000        2.000000      15.000000      5.000000      4.000000\n",
       "75%        5.000000        4.000000      47.000000     16.000000     15.000000\n",
       "max       50.000000       29.000000     474.000000   1159.000000    585.000000"
      ]
     },
     "execution_count": 13,
     "metadata": {},
     "output_type": "execute_result"
    }
   ],
   "source": [
    "pred2.describe()"
   ]
  },
  {
   "cell_type": "code",
   "execution_count": 14,
   "metadata": {},
   "outputs": [
    {
     "data": {
      "text/html": [
       "<div>\n",
       "<table border=\"1\" class=\"dataframe\">\n",
       "  <thead>\n",
       "    <tr style=\"text-align: right;\">\n",
       "      <th></th>\n",
       "      <th>adult_males</th>\n",
       "      <th>subadult_males</th>\n",
       "      <th>adult_females</th>\n",
       "      <th>juveniles</th>\n",
       "      <th>pups</th>\n",
       "    </tr>\n",
       "  </thead>\n",
       "  <tbody>\n",
       "    <tr>\n",
       "      <th>count</th>\n",
       "      <td>18636.000000</td>\n",
       "      <td>18636.000000</td>\n",
       "      <td>18636.000000</td>\n",
       "      <td>18636.000000</td>\n",
       "      <td>18636.000000</td>\n",
       "    </tr>\n",
       "    <tr>\n",
       "      <th>mean</th>\n",
       "      <td>3.643647</td>\n",
       "      <td>2.766849</td>\n",
       "      <td>31.485083</td>\n",
       "      <td>14.509659</td>\n",
       "      <td>17.097660</td>\n",
       "    </tr>\n",
       "    <tr>\n",
       "      <th>std</th>\n",
       "      <td>3.845224</td>\n",
       "      <td>2.443391</td>\n",
       "      <td>45.040224</td>\n",
       "      <td>28.446923</td>\n",
       "      <td>36.338319</td>\n",
       "    </tr>\n",
       "    <tr>\n",
       "      <th>min</th>\n",
       "      <td>0.000000</td>\n",
       "      <td>0.000000</td>\n",
       "      <td>0.000000</td>\n",
       "      <td>0.000000</td>\n",
       "      <td>0.000000</td>\n",
       "    </tr>\n",
       "    <tr>\n",
       "      <th>25%</th>\n",
       "      <td>1.000000</td>\n",
       "      <td>1.000000</td>\n",
       "      <td>3.000000</td>\n",
       "      <td>2.000000</td>\n",
       "      <td>1.000000</td>\n",
       "    </tr>\n",
       "    <tr>\n",
       "      <th>50%</th>\n",
       "      <td>2.000000</td>\n",
       "      <td>2.000000</td>\n",
       "      <td>13.000000</td>\n",
       "      <td>5.000000</td>\n",
       "      <td>3.000000</td>\n",
       "    </tr>\n",
       "    <tr>\n",
       "      <th>75%</th>\n",
       "      <td>5.000000</td>\n",
       "      <td>4.000000</td>\n",
       "      <td>42.000000</td>\n",
       "      <td>16.000000</td>\n",
       "      <td>14.000000</td>\n",
       "    </tr>\n",
       "    <tr>\n",
       "      <th>max</th>\n",
       "      <td>45.000000</td>\n",
       "      <td>32.000000</td>\n",
       "      <td>447.000000</td>\n",
       "      <td>1181.000000</td>\n",
       "      <td>539.000000</td>\n",
       "    </tr>\n",
       "  </tbody>\n",
       "</table>\n",
       "</div>"
      ],
      "text/plain": [
       "        adult_males  subadult_males  adult_females     juveniles          pups\n",
       "count  18636.000000    18636.000000   18636.000000  18636.000000  18636.000000\n",
       "mean       3.643647        2.766849      31.485083     14.509659     17.097660\n",
       "std        3.845224        2.443391      45.040224     28.446923     36.338319\n",
       "min        0.000000        0.000000       0.000000      0.000000      0.000000\n",
       "25%        1.000000        1.000000       3.000000      2.000000      1.000000\n",
       "50%        2.000000        2.000000      13.000000      5.000000      3.000000\n",
       "75%        5.000000        4.000000      42.000000     16.000000     14.000000\n",
       "max       45.000000       32.000000     447.000000   1181.000000    539.000000"
      ]
     },
     "execution_count": 14,
     "metadata": {},
     "output_type": "execute_result"
    }
   ],
   "source": [
    "pred3.describe()"
   ]
  },
  {
   "cell_type": "code",
   "execution_count": 17,
   "metadata": {},
   "outputs": [
    {
     "data": {
      "text/plain": [
       "2"
      ]
     },
     "execution_count": 17,
     "metadata": {},
     "output_type": "execute_result"
    }
   ],
   "source": [
    "(pred3.juveniles > 500).sum()"
   ]
  },
  {
   "cell_type": "code",
   "execution_count": 25,
   "metadata": {},
   "outputs": [
    {
     "name": "stdout",
     "output_type": "stream",
     "text": [
      "\n",
      "adult_males\n",
      "1.9394543436\n",
      "1.78955616523\n",
      "0.75093845558\n",
      "\n",
      "subadult_males\n",
      "1.59421846612\n",
      "1.44686603908\n",
      "0.687054115004\n",
      "\n",
      "adult_females\n",
      "14.2906578544\n",
      "10.4291063305\n",
      "8.08570479438\n",
      "\n",
      "juveniles\n",
      "15.0388225513\n",
      "15.4196137464\n",
      "3.28234233369\n",
      "\n",
      "pups\n",
      "7.55845432674\n",
      "8.0934656018\n",
      "3.95997765804\n"
     ]
    }
   ],
   "source": [
    "from sklearn.metrics import mean_squared_error\n",
    "import numpy as np\n",
    "\n",
    "for col in pred.columns:\n",
    "    print()\n",
    "    print(col)\n",
    "    print(np.sqrt(mean_squared_error(pred[col], pred2[col])))\n",
    "    print(np.sqrt(mean_squared_error(pred[col], pred3[col])))\n",
    "    print(np.sqrt(mean_squared_error(pred2[col], pred3[col])))"
   ]
  },
  {
   "cell_type": "code",
   "execution_count": 33,
   "metadata": {},
   "outputs": [
    {
     "name": "stdout",
     "output_type": "stream",
     "text": [
      "adult_males 4.1910694682\n",
      "subadult_males 2.79941069667\n",
      "adult_females 38.5814065352\n",
      "juveniles 26.4208555424\n",
      "pups 28.0199585139\n",
      "\n",
      "20.0025401513\n"
     ]
    }
   ],
   "source": [
    "from sklearn.metrics import mean_squared_error\n",
    "import numpy as np\n",
    "\n",
    "pred_last = pd.read_csv(\n",
    "    '../runs/unet-stratified-scale-0.8-1.6-oversample0.2/unet-stratified-scale-0.8-1.6-oversample0.2.csv',\n",
    "    index_col=0)\n",
    "\n",
    "rmses = []\n",
    "#sigma = 0.48\n",
    "sigma = 0.85\n",
    "for col in pred_last.columns:\n",
    "    rmse = np.sqrt(mean_squared_error(\n",
    "        pred_last[col], np.random.normal(1, sigma, size=len(pred_last)) * pred_last[col]))\n",
    "    print(col, rmse)\n",
    "    rmses.append(rmse)\n",
    "print()\n",
    "print(np.mean(rmses))"
   ]
  },
  {
   "cell_type": "code",
   "execution_count": 16,
   "metadata": {},
   "outputs": [
    {
     "data": {
      "text/plain": [
       "test_id\n",
       "0         1.059223\n",
       "1        -0.479074\n",
       "2        -0.004191\n",
       "3        -0.000000\n",
       "4         1.202407\n",
       "5        -1.506700\n",
       "6        -0.000000\n",
       "7         0.081198\n",
       "8         2.402270\n",
       "9         2.625995\n",
       "10       -1.789798\n",
       "11        0.251750\n",
       "12        2.188531\n",
       "13        4.661497\n",
       "14        0.000000\n",
       "15        1.678515\n",
       "16        0.993601\n",
       "17        1.171332\n",
       "18        2.356478\n",
       "19       -0.872747\n",
       "20       10.814704\n",
       "21       -0.313824\n",
       "22       -2.753740\n",
       "23       -0.000000\n",
       "24        1.706531\n",
       "25       -0.686283\n",
       "26        0.622559\n",
       "27        6.807497\n",
       "28       -0.087815\n",
       "29        0.663787\n",
       "           ...    \n",
       "18606    -1.460271\n",
       "18607    -4.265636\n",
       "18608     0.380563\n",
       "18609    -4.368636\n",
       "18610     6.171374\n",
       "18611    -5.633124\n",
       "18612     0.521783\n",
       "18613    -0.818028\n",
       "18614    -0.081845\n",
       "18615   -15.562794\n",
       "18616    -1.953328\n",
       "18617    -0.205512\n",
       "18618    -1.490448\n",
       "18619     1.257499\n",
       "18620    -0.000000\n",
       "18621    -1.862985\n",
       "18622    -5.937944\n",
       "18623     1.516227\n",
       "18624     0.983030\n",
       "18625    -3.762078\n",
       "18626    10.154590\n",
       "18627    -0.250298\n",
       "18628     2.698346\n",
       "18629    -1.273682\n",
       "18630    -0.000000\n",
       "18631     0.588791\n",
       "18632    -3.084756\n",
       "18633    -5.706765\n",
       "18634    -0.868296\n",
       "18635     1.666642\n",
       "Name: adult_males, dtype: float64"
      ]
     },
     "execution_count": 16,
     "metadata": {},
     "output_type": "execute_result"
    }
   ],
   "source": [
    "np.random.normal(0, 1, size=len(pred_last)) * pred_last['adult_males']"
   ]
  },
  {
   "cell_type": "code",
   "execution_count": null,
   "metadata": {
    "collapsed": true
   },
   "outputs": [],
   "source": []
  }
 ],
 "metadata": {
  "kernelspec": {
   "display_name": "Python 3",
   "language": "python",
   "name": "python3"
  },
  "language_info": {
   "codemirror_mode": {
    "name": "ipython",
    "version": 3
   },
   "file_extension": ".py",
   "mimetype": "text/x-python",
   "name": "python",
   "nbconvert_exporter": "python",
   "pygments_lexer": "ipython3",
   "version": "3.5.2"
  }
 },
 "nbformat": 4,
 "nbformat_minor": 2
}
